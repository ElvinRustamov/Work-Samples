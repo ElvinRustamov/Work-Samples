{
  "nbformat": 4,
  "nbformat_minor": 0,
  "metadata": {
    "colab": {
      "provenance": []
    },
    "kernelspec": {
      "name": "python3",
      "display_name": "Python 3"
    },
    "language_info": {
      "name": "python"
    }
  },
  "cells": [
    {
      "cell_type": "markdown",
      "source": [
        "About Dataset\n",
        "\n",
        "Coronavirus disease (COVID-19) is an infectious disease caused by the SARS-CoV-2 virus.\n",
        "\n",
        "Most people infected with the virus will experience mild to moderate respiratory illness and recover without requiring special treatment. However, some will become seriously ill and require medical attention. Older people and those with underlying medical conditions like cardiovascular disease, diabetes, chronic respiratory disease, or cancer are more likely to develop serious illness. Anyone can get sick with COVID-19 and become seriously ill or die at any age.\n",
        "\n",
        "The best way to prevent and slow down transmission is to be well informed about the disease and how the virus spreads. Protect yourself and others from infection by staying at least 1 metre apart from others, wearing a properly fitted mask, and washing your hands or using an alcohol-based rub frequently. Get vaccinated when it’s your turn and follow local guidance.\n",
        "\n",
        "The virus can spread from an infected person’s mouth or nose in small liquid particles when they cough, sneeze, speak, sing or breathe. These particles range from larger respiratory droplets to smaller aerosols. It is important to practice respiratory etiquette, for example by coughing into a flexed elbow, and to stay home and self-isolate until you recover if you feel unwell.\n",
        "\n",
        "Where are cases still high?\n",
        "\n",
        "Daily global cases fell after a spike in the spring but are now rising again, with the emergence of the BA.4 and BA.5 subvariants of the Omicron variant.\n",
        "\n",
        "Studies suggest that Omicron - which quickly became dominant in numerous countries - is milder than the Delta variant, but far more contagious. The subvariants are even more contagious."
      ],
      "metadata": {
        "id": "a82tvLIzJPFB"
      }
    },
    {
      "cell_type": "code",
      "source": [
        "from google.colab import drive\n",
        "drive.mount('/content/drive')"
      ],
      "metadata": {
        "colab": {
          "base_uri": "https://localhost:8080/"
        },
        "id": "N7EN0w1RIpwf",
        "outputId": "6b097020-9057-4038-8dc7-3487c624e419"
      },
      "execution_count": 1,
      "outputs": [
        {
          "output_type": "stream",
          "name": "stdout",
          "text": [
            "Mounted at /content/drive\n"
          ]
        }
      ]
    },
    {
      "cell_type": "code",
      "execution_count": 2,
      "metadata": {
        "id": "s8z7YcTcIl8E"
      },
      "outputs": [],
      "source": [
        "import pandas as pd\n",
        "import seaborn as sns\n",
        "import matplotlib.pyplot as plt\n",
        "import re\n",
        "import numpy as np"
      ]
    },
    {
      "cell_type": "code",
      "source": [
        "covid_world_wide = pd.read_csv('/content/drive/MyDrive/Projects/Covid-WorldWide/covid_worldwide.csv')"
      ],
      "metadata": {
        "id": "6i_kQ8uOIygz"
      },
      "execution_count": 3,
      "outputs": []
    },
    {
      "cell_type": "code",
      "source": [
        "df = covid_world_wide.copy()\n",
        "df.set_index('Serial Number', inplace=True)\n",
        "df.head()"
      ],
      "metadata": {
        "colab": {
          "base_uri": "https://localhost:8080/",
          "height": 237
        },
        "id": "enQf61f4I74H",
        "outputId": "ac4df4cb-c394-4593-af6b-41e972da6b83"
      },
      "execution_count": 4,
      "outputs": [
        {
          "output_type": "execute_result",
          "data": {
            "text/plain": [
              "               Country  Total Cases Total Deaths Total Recovered Active Cases  \\\n",
              "Serial Number                                                                   \n",
              "1                  USA  104,196,861    1,132,935     101,322,779    1,741,147   \n",
              "2                India   44,682,784      530,740      44,150,289        1,755   \n",
              "3               France   39,524,311      164,233      39,264,546       95,532   \n",
              "4              Germany   37,779,833      165,711      37,398,100      216,022   \n",
              "5               Brazil   36,824,580      697,074      35,919,372      208,134   \n",
              "\n",
              "                  Total Test     Population  \n",
              "Serial Number                                \n",
              "1              1,159,832,679    334,805,269  \n",
              "2                915,265,788  1,406,631,776  \n",
              "3                271,490,188     65,584,518  \n",
              "4                122,332,384     83,883,596  \n",
              "5                 63,776,166    215,353,593  "
            ],
            "text/html": [
              "\n",
              "  <div id=\"df-2ae312bd-efbd-4492-97b5-b2582c89d54c\">\n",
              "    <div class=\"colab-df-container\">\n",
              "      <div>\n",
              "<style scoped>\n",
              "    .dataframe tbody tr th:only-of-type {\n",
              "        vertical-align: middle;\n",
              "    }\n",
              "\n",
              "    .dataframe tbody tr th {\n",
              "        vertical-align: top;\n",
              "    }\n",
              "\n",
              "    .dataframe thead th {\n",
              "        text-align: right;\n",
              "    }\n",
              "</style>\n",
              "<table border=\"1\" class=\"dataframe\">\n",
              "  <thead>\n",
              "    <tr style=\"text-align: right;\">\n",
              "      <th></th>\n",
              "      <th>Country</th>\n",
              "      <th>Total Cases</th>\n",
              "      <th>Total Deaths</th>\n",
              "      <th>Total Recovered</th>\n",
              "      <th>Active Cases</th>\n",
              "      <th>Total Test</th>\n",
              "      <th>Population</th>\n",
              "    </tr>\n",
              "    <tr>\n",
              "      <th>Serial Number</th>\n",
              "      <th></th>\n",
              "      <th></th>\n",
              "      <th></th>\n",
              "      <th></th>\n",
              "      <th></th>\n",
              "      <th></th>\n",
              "      <th></th>\n",
              "    </tr>\n",
              "  </thead>\n",
              "  <tbody>\n",
              "    <tr>\n",
              "      <th>1</th>\n",
              "      <td>USA</td>\n",
              "      <td>104,196,861</td>\n",
              "      <td>1,132,935</td>\n",
              "      <td>101,322,779</td>\n",
              "      <td>1,741,147</td>\n",
              "      <td>1,159,832,679</td>\n",
              "      <td>334,805,269</td>\n",
              "    </tr>\n",
              "    <tr>\n",
              "      <th>2</th>\n",
              "      <td>India</td>\n",
              "      <td>44,682,784</td>\n",
              "      <td>530,740</td>\n",
              "      <td>44,150,289</td>\n",
              "      <td>1,755</td>\n",
              "      <td>915,265,788</td>\n",
              "      <td>1,406,631,776</td>\n",
              "    </tr>\n",
              "    <tr>\n",
              "      <th>3</th>\n",
              "      <td>France</td>\n",
              "      <td>39,524,311</td>\n",
              "      <td>164,233</td>\n",
              "      <td>39,264,546</td>\n",
              "      <td>95,532</td>\n",
              "      <td>271,490,188</td>\n",
              "      <td>65,584,518</td>\n",
              "    </tr>\n",
              "    <tr>\n",
              "      <th>4</th>\n",
              "      <td>Germany</td>\n",
              "      <td>37,779,833</td>\n",
              "      <td>165,711</td>\n",
              "      <td>37,398,100</td>\n",
              "      <td>216,022</td>\n",
              "      <td>122,332,384</td>\n",
              "      <td>83,883,596</td>\n",
              "    </tr>\n",
              "    <tr>\n",
              "      <th>5</th>\n",
              "      <td>Brazil</td>\n",
              "      <td>36,824,580</td>\n",
              "      <td>697,074</td>\n",
              "      <td>35,919,372</td>\n",
              "      <td>208,134</td>\n",
              "      <td>63,776,166</td>\n",
              "      <td>215,353,593</td>\n",
              "    </tr>\n",
              "  </tbody>\n",
              "</table>\n",
              "</div>\n",
              "      <button class=\"colab-df-convert\" onclick=\"convertToInteractive('df-2ae312bd-efbd-4492-97b5-b2582c89d54c')\"\n",
              "              title=\"Convert this dataframe to an interactive table.\"\n",
              "              style=\"display:none;\">\n",
              "        \n",
              "  <svg xmlns=\"http://www.w3.org/2000/svg\" height=\"24px\"viewBox=\"0 0 24 24\"\n",
              "       width=\"24px\">\n",
              "    <path d=\"M0 0h24v24H0V0z\" fill=\"none\"/>\n",
              "    <path d=\"M18.56 5.44l.94 2.06.94-2.06 2.06-.94-2.06-.94-.94-2.06-.94 2.06-2.06.94zm-11 1L8.5 8.5l.94-2.06 2.06-.94-2.06-.94L8.5 2.5l-.94 2.06-2.06.94zm10 10l.94 2.06.94-2.06 2.06-.94-2.06-.94-.94-2.06-.94 2.06-2.06.94z\"/><path d=\"M17.41 7.96l-1.37-1.37c-.4-.4-.92-.59-1.43-.59-.52 0-1.04.2-1.43.59L10.3 9.45l-7.72 7.72c-.78.78-.78 2.05 0 2.83L4 21.41c.39.39.9.59 1.41.59.51 0 1.02-.2 1.41-.59l7.78-7.78 2.81-2.81c.8-.78.8-2.07 0-2.86zM5.41 20L4 18.59l7.72-7.72 1.47 1.35L5.41 20z\"/>\n",
              "  </svg>\n",
              "      </button>\n",
              "      \n",
              "  <style>\n",
              "    .colab-df-container {\n",
              "      display:flex;\n",
              "      flex-wrap:wrap;\n",
              "      gap: 12px;\n",
              "    }\n",
              "\n",
              "    .colab-df-convert {\n",
              "      background-color: #E8F0FE;\n",
              "      border: none;\n",
              "      border-radius: 50%;\n",
              "      cursor: pointer;\n",
              "      display: none;\n",
              "      fill: #1967D2;\n",
              "      height: 32px;\n",
              "      padding: 0 0 0 0;\n",
              "      width: 32px;\n",
              "    }\n",
              "\n",
              "    .colab-df-convert:hover {\n",
              "      background-color: #E2EBFA;\n",
              "      box-shadow: 0px 1px 2px rgba(60, 64, 67, 0.3), 0px 1px 3px 1px rgba(60, 64, 67, 0.15);\n",
              "      fill: #174EA6;\n",
              "    }\n",
              "\n",
              "    [theme=dark] .colab-df-convert {\n",
              "      background-color: #3B4455;\n",
              "      fill: #D2E3FC;\n",
              "    }\n",
              "\n",
              "    [theme=dark] .colab-df-convert:hover {\n",
              "      background-color: #434B5C;\n",
              "      box-shadow: 0px 1px 3px 1px rgba(0, 0, 0, 0.15);\n",
              "      filter: drop-shadow(0px 1px 2px rgba(0, 0, 0, 0.3));\n",
              "      fill: #FFFFFF;\n",
              "    }\n",
              "  </style>\n",
              "\n",
              "      <script>\n",
              "        const buttonEl =\n",
              "          document.querySelector('#df-2ae312bd-efbd-4492-97b5-b2582c89d54c button.colab-df-convert');\n",
              "        buttonEl.style.display =\n",
              "          google.colab.kernel.accessAllowed ? 'block' : 'none';\n",
              "\n",
              "        async function convertToInteractive(key) {\n",
              "          const element = document.querySelector('#df-2ae312bd-efbd-4492-97b5-b2582c89d54c');\n",
              "          const dataTable =\n",
              "            await google.colab.kernel.invokeFunction('convertToInteractive',\n",
              "                                                     [key], {});\n",
              "          if (!dataTable) return;\n",
              "\n",
              "          const docLinkHtml = 'Like what you see? Visit the ' +\n",
              "            '<a target=\"_blank\" href=https://colab.research.google.com/notebooks/data_table.ipynb>data table notebook</a>'\n",
              "            + ' to learn more about interactive tables.';\n",
              "          element.innerHTML = '';\n",
              "          dataTable['output_type'] = 'display_data';\n",
              "          await google.colab.output.renderOutput(dataTable, element);\n",
              "          const docLink = document.createElement('div');\n",
              "          docLink.innerHTML = docLinkHtml;\n",
              "          element.appendChild(docLink);\n",
              "        }\n",
              "      </script>\n",
              "    </div>\n",
              "  </div>\n",
              "  "
            ]
          },
          "metadata": {},
          "execution_count": 4
        }
      ]
    },
    {
      "cell_type": "code",
      "source": [
        "len(df['Country'].unique())"
      ],
      "metadata": {
        "colab": {
          "base_uri": "https://localhost:8080/"
        },
        "id": "IJvnfd8xI_LY",
        "outputId": "379dc09c-a674-484e-de67-173f5405759c"
      },
      "execution_count": 5,
      "outputs": [
        {
          "output_type": "execute_result",
          "data": {
            "text/plain": [
              "231"
            ]
          },
          "metadata": {},
          "execution_count": 5
        }
      ]
    },
    {
      "cell_type": "code",
      "source": [
        "df.dropna(inplace=True)\n",
        "df.info()"
      ],
      "metadata": {
        "colab": {
          "base_uri": "https://localhost:8080/"
        },
        "id": "PzEjR04WJB16",
        "outputId": "8a150b96-41a0-43ec-94b3-0372a3757ab0"
      },
      "execution_count": 6,
      "outputs": [
        {
          "output_type": "stream",
          "name": "stdout",
          "text": [
            "<class 'pandas.core.frame.DataFrame'>\n",
            "Int64Index: 195 entries, 1 to 225\n",
            "Data columns (total 7 columns):\n",
            " #   Column           Non-Null Count  Dtype \n",
            "---  ------           --------------  ----- \n",
            " 0   Country          195 non-null    object\n",
            " 1   Total Cases      195 non-null    object\n",
            " 2   Total Deaths     195 non-null    object\n",
            " 3   Total Recovered  195 non-null    object\n",
            " 4   Active Cases     195 non-null    object\n",
            " 5   Total Test       195 non-null    object\n",
            " 6   Population       195 non-null    object\n",
            "dtypes: object(7)\n",
            "memory usage: 12.2+ KB\n"
          ]
        }
      ]
    },
    {
      "cell_type": "code",
      "source": [
        "def convert_type(df, column):\n",
        "    new_column = []\n",
        "    length = len(df[column])\n",
        "    for i in df.index:\n",
        "      new_data = int(re.sub(',', '', df[column][i]))\n",
        "      new_column.append(new_data)\n",
        "    df[column] = new_column\n",
        "\n",
        "for column in df.iloc[:, 1:].columns:\n",
        "  convert_type(df, column)"
      ],
      "metadata": {
        "id": "1V2v7mbwJ2pt"
      },
      "execution_count": 7,
      "outputs": []
    },
    {
      "cell_type": "code",
      "source": [
        "df.info()"
      ],
      "metadata": {
        "colab": {
          "base_uri": "https://localhost:8080/"
        },
        "id": "fhUiLFrcJg9d",
        "outputId": "0bbd5fcd-c9e5-4df1-8707-7e0a83f92579"
      },
      "execution_count": 8,
      "outputs": [
        {
          "output_type": "stream",
          "name": "stdout",
          "text": [
            "<class 'pandas.core.frame.DataFrame'>\n",
            "Int64Index: 195 entries, 1 to 225\n",
            "Data columns (total 7 columns):\n",
            " #   Column           Non-Null Count  Dtype \n",
            "---  ------           --------------  ----- \n",
            " 0   Country          195 non-null    object\n",
            " 1   Total Cases      195 non-null    int64 \n",
            " 2   Total Deaths     195 non-null    int64 \n",
            " 3   Total Recovered  195 non-null    int64 \n",
            " 4   Active Cases     195 non-null    int64 \n",
            " 5   Total Test       195 non-null    int64 \n",
            " 6   Population       195 non-null    int64 \n",
            "dtypes: int64(6), object(1)\n",
            "memory usage: 16.3+ KB\n"
          ]
        }
      ]
    },
    {
      "cell_type": "code",
      "source": [
        "df.sort_values(by=['Population'], ascending=False, inplace=True)\n",
        "df.reset_index(drop=True, inplace=True)"
      ],
      "metadata": {
        "id": "zUaHzq92M9rw"
      },
      "execution_count": 9,
      "outputs": []
    },
    {
      "cell_type": "code",
      "source": [
        "df.head()"
      ],
      "metadata": {
        "colab": {
          "base_uri": "https://localhost:8080/",
          "height": 206
        },
        "id": "RXBztJ7INV2H",
        "outputId": "1a8e7d61-4d14-4369-84e8-900deeb5cfcd"
      },
      "execution_count": 10,
      "outputs": [
        {
          "output_type": "execute_result",
          "data": {
            "text/plain": [
              "     Country  Total Cases  Total Deaths  Total Recovered  Active Cases  \\\n",
              "0      India     44682784        530740         44150289          1755   \n",
              "1        USA    104196861       1132935        101322779       1741147   \n",
              "2  Indonesia      6730289        160817          6565208          4264   \n",
              "3   Pakistan      1576313         30640          1538689          6984   \n",
              "4    Nigeria       266463          3155           259850          3458   \n",
              "\n",
              "   Total Test  Population  \n",
              "0   915265788  1406631776  \n",
              "1  1159832679   334805269  \n",
              "2   114158919   279134505  \n",
              "3    30570862   229488994  \n",
              "4     5708974   216746934  "
            ],
            "text/html": [
              "\n",
              "  <div id=\"df-55778413-83f3-4665-82d0-ad1cb820f286\">\n",
              "    <div class=\"colab-df-container\">\n",
              "      <div>\n",
              "<style scoped>\n",
              "    .dataframe tbody tr th:only-of-type {\n",
              "        vertical-align: middle;\n",
              "    }\n",
              "\n",
              "    .dataframe tbody tr th {\n",
              "        vertical-align: top;\n",
              "    }\n",
              "\n",
              "    .dataframe thead th {\n",
              "        text-align: right;\n",
              "    }\n",
              "</style>\n",
              "<table border=\"1\" class=\"dataframe\">\n",
              "  <thead>\n",
              "    <tr style=\"text-align: right;\">\n",
              "      <th></th>\n",
              "      <th>Country</th>\n",
              "      <th>Total Cases</th>\n",
              "      <th>Total Deaths</th>\n",
              "      <th>Total Recovered</th>\n",
              "      <th>Active Cases</th>\n",
              "      <th>Total Test</th>\n",
              "      <th>Population</th>\n",
              "    </tr>\n",
              "  </thead>\n",
              "  <tbody>\n",
              "    <tr>\n",
              "      <th>0</th>\n",
              "      <td>India</td>\n",
              "      <td>44682784</td>\n",
              "      <td>530740</td>\n",
              "      <td>44150289</td>\n",
              "      <td>1755</td>\n",
              "      <td>915265788</td>\n",
              "      <td>1406631776</td>\n",
              "    </tr>\n",
              "    <tr>\n",
              "      <th>1</th>\n",
              "      <td>USA</td>\n",
              "      <td>104196861</td>\n",
              "      <td>1132935</td>\n",
              "      <td>101322779</td>\n",
              "      <td>1741147</td>\n",
              "      <td>1159832679</td>\n",
              "      <td>334805269</td>\n",
              "    </tr>\n",
              "    <tr>\n",
              "      <th>2</th>\n",
              "      <td>Indonesia</td>\n",
              "      <td>6730289</td>\n",
              "      <td>160817</td>\n",
              "      <td>6565208</td>\n",
              "      <td>4264</td>\n",
              "      <td>114158919</td>\n",
              "      <td>279134505</td>\n",
              "    </tr>\n",
              "    <tr>\n",
              "      <th>3</th>\n",
              "      <td>Pakistan</td>\n",
              "      <td>1576313</td>\n",
              "      <td>30640</td>\n",
              "      <td>1538689</td>\n",
              "      <td>6984</td>\n",
              "      <td>30570862</td>\n",
              "      <td>229488994</td>\n",
              "    </tr>\n",
              "    <tr>\n",
              "      <th>4</th>\n",
              "      <td>Nigeria</td>\n",
              "      <td>266463</td>\n",
              "      <td>3155</td>\n",
              "      <td>259850</td>\n",
              "      <td>3458</td>\n",
              "      <td>5708974</td>\n",
              "      <td>216746934</td>\n",
              "    </tr>\n",
              "  </tbody>\n",
              "</table>\n",
              "</div>\n",
              "      <button class=\"colab-df-convert\" onclick=\"convertToInteractive('df-55778413-83f3-4665-82d0-ad1cb820f286')\"\n",
              "              title=\"Convert this dataframe to an interactive table.\"\n",
              "              style=\"display:none;\">\n",
              "        \n",
              "  <svg xmlns=\"http://www.w3.org/2000/svg\" height=\"24px\"viewBox=\"0 0 24 24\"\n",
              "       width=\"24px\">\n",
              "    <path d=\"M0 0h24v24H0V0z\" fill=\"none\"/>\n",
              "    <path d=\"M18.56 5.44l.94 2.06.94-2.06 2.06-.94-2.06-.94-.94-2.06-.94 2.06-2.06.94zm-11 1L8.5 8.5l.94-2.06 2.06-.94-2.06-.94L8.5 2.5l-.94 2.06-2.06.94zm10 10l.94 2.06.94-2.06 2.06-.94-2.06-.94-.94-2.06-.94 2.06-2.06.94z\"/><path d=\"M17.41 7.96l-1.37-1.37c-.4-.4-.92-.59-1.43-.59-.52 0-1.04.2-1.43.59L10.3 9.45l-7.72 7.72c-.78.78-.78 2.05 0 2.83L4 21.41c.39.39.9.59 1.41.59.51 0 1.02-.2 1.41-.59l7.78-7.78 2.81-2.81c.8-.78.8-2.07 0-2.86zM5.41 20L4 18.59l7.72-7.72 1.47 1.35L5.41 20z\"/>\n",
              "  </svg>\n",
              "      </button>\n",
              "      \n",
              "  <style>\n",
              "    .colab-df-container {\n",
              "      display:flex;\n",
              "      flex-wrap:wrap;\n",
              "      gap: 12px;\n",
              "    }\n",
              "\n",
              "    .colab-df-convert {\n",
              "      background-color: #E8F0FE;\n",
              "      border: none;\n",
              "      border-radius: 50%;\n",
              "      cursor: pointer;\n",
              "      display: none;\n",
              "      fill: #1967D2;\n",
              "      height: 32px;\n",
              "      padding: 0 0 0 0;\n",
              "      width: 32px;\n",
              "    }\n",
              "\n",
              "    .colab-df-convert:hover {\n",
              "      background-color: #E2EBFA;\n",
              "      box-shadow: 0px 1px 2px rgba(60, 64, 67, 0.3), 0px 1px 3px 1px rgba(60, 64, 67, 0.15);\n",
              "      fill: #174EA6;\n",
              "    }\n",
              "\n",
              "    [theme=dark] .colab-df-convert {\n",
              "      background-color: #3B4455;\n",
              "      fill: #D2E3FC;\n",
              "    }\n",
              "\n",
              "    [theme=dark] .colab-df-convert:hover {\n",
              "      background-color: #434B5C;\n",
              "      box-shadow: 0px 1px 3px 1px rgba(0, 0, 0, 0.15);\n",
              "      filter: drop-shadow(0px 1px 2px rgba(0, 0, 0, 0.3));\n",
              "      fill: #FFFFFF;\n",
              "    }\n",
              "  </style>\n",
              "\n",
              "      <script>\n",
              "        const buttonEl =\n",
              "          document.querySelector('#df-55778413-83f3-4665-82d0-ad1cb820f286 button.colab-df-convert');\n",
              "        buttonEl.style.display =\n",
              "          google.colab.kernel.accessAllowed ? 'block' : 'none';\n",
              "\n",
              "        async function convertToInteractive(key) {\n",
              "          const element = document.querySelector('#df-55778413-83f3-4665-82d0-ad1cb820f286');\n",
              "          const dataTable =\n",
              "            await google.colab.kernel.invokeFunction('convertToInteractive',\n",
              "                                                     [key], {});\n",
              "          if (!dataTable) return;\n",
              "\n",
              "          const docLinkHtml = 'Like what you see? Visit the ' +\n",
              "            '<a target=\"_blank\" href=https://colab.research.google.com/notebooks/data_table.ipynb>data table notebook</a>'\n",
              "            + ' to learn more about interactive tables.';\n",
              "          element.innerHTML = '';\n",
              "          dataTable['output_type'] = 'display_data';\n",
              "          await google.colab.output.renderOutput(dataTable, element);\n",
              "          const docLink = document.createElement('div');\n",
              "          docLink.innerHTML = docLinkHtml;\n",
              "          element.appendChild(docLink);\n",
              "        }\n",
              "      </script>\n",
              "    </div>\n",
              "  </div>\n",
              "  "
            ]
          },
          "metadata": {},
          "execution_count": 10
        }
      ]
    },
    {
      "cell_type": "code",
      "source": [
        "def apply_func(df, column, func):\n",
        "  print(f'''Column Name: {column},\n",
        "        Function Name: {func.__name__},\n",
        "        {df[df[column] == func(df[column])]}''')\n",
        "\n",
        "apply_func(df, 'Total Cases', max)\n",
        "apply_func(df, 'Total Cases', min)"
      ],
      "metadata": {
        "colab": {
          "base_uri": "https://localhost:8080/"
        },
        "id": "lMGbwrJpO_Ap",
        "outputId": "e82e830b-fb9f-4ed4-dcc6-d0eb470f36e3"
      },
      "execution_count": 11,
      "outputs": [
        {
          "output_type": "stream",
          "name": "stdout",
          "text": [
            "Column Name: Total Cases,\n",
            "        Function Name: max,\n",
            "          Country  Total Cases  Total Deaths  Total Recovered  Active Cases  \\\n",
            "1     USA    104196861       1132935        101322779       1741147   \n",
            "\n",
            "   Total Test  Population  \n",
            "1  1159832679   334805269  \n",
            "Column Name: Total Cases,\n",
            "        Function Name: min,\n",
            "                Country  Total Cases  Total Deaths  Total Recovered  Active Cases  \\\n",
            "194  Montserrat         1403             8             1376            19   \n",
            "\n",
            "     Total Test  Population  \n",
            "194       17762        4965  \n"
          ]
        }
      ]
    },
    {
      "cell_type": "code",
      "source": [
        "def pie_chart(country, columns: list):\n",
        "  labels = df.loc[df['Country'] == country, columns].columns\n",
        "  values = df.loc[df['Country'] == country, columns].values.flatten()\n",
        "  plt.pie(x = values, labels = labels, autopct='%1.1f%%');\n",
        "  plt.legend(values,\n",
        "             title='Number of People',\n",
        "             loc=\"center left\",\n",
        "             bbox_to_anchor=(1.2, 0, 0.5, 1))\n",
        "  plt.title(f'Coronavirus disease in {country}')\n",
        "\n",
        "pie_chart('USA', ['Total Cases', 'Total Deaths', 'Population'])"
      ],
      "metadata": {
        "colab": {
          "base_uri": "https://localhost:8080/",
          "height": 264
        },
        "id": "uSXPfO5OP0hl",
        "outputId": "bb4c9d09-07d0-42fa-8101-85c8a6726cd1"
      },
      "execution_count": 12,
      "outputs": [
        {
          "output_type": "display_data",
          "data": {
            "text/plain": [
              "<Figure size 432x288 with 1 Axes>"
            ],
            "image/png": "[encoded data removed]"
          },
          "metadata": {}
        }
      ]
    },
    {
      "cell_type": "code",
      "source": [
        "pie_chart('India', ['Total Cases', 'Total Deaths', 'Population'])"
      ],
      "metadata": {
        "colab": {
          "base_uri": "https://localhost:8080/",
          "height": 264
        },
        "id": "ZXaheLTMRrZg",
        "outputId": "c93136ad-76dc-4e0c-ea8c-8e3c17d14363"
      },
      "execution_count": 13,
      "outputs": [
        {
          "output_type": "display_data",
          "data": {
            "text/plain": [
              "<Figure size 432x288 with 1 Axes>"
            ],
            "image/png": "[encoded data removed]"
          },
          "metadata": {}
        }
      ]
    }
  ]
}