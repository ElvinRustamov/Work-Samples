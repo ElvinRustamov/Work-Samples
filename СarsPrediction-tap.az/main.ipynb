{
 "cells": [
  {
   "cell_type": "code",
   "execution_count": 2,
   "outputs": [],
   "source": [
    "#Libraries\n",
    "\n",
    "from selenium import webdriver\n",
    "from selenium.webdriver.chrome.service import Service\n",
    "from selenium.webdriver.support.ui import WebDriverWait\n",
    "from selenium.webdriver.support import expected_conditions as EC\n",
    "from bs4 import BeautifulSoup\n",
    "from webdriver_manager.chrome import ChromeDriverManager\n",
    "import time\n",
    "import pandas as pd\n",
    "import numpy as np\n",
    "import requests"
   ],
   "metadata": {
    "collapsed": false
   }
  },
  {
   "cell_type": "markdown",
   "source": [
    "# Data collection process"
   ],
   "metadata": {
    "collapsed": false
   }
  },
  {
   "cell_type": "code",
   "execution_count": null,
   "outputs": [],
   "source": [
    "driver = webdriver.Chrome(service=Service(ChromeDriverManager().install()))\n",
    "\n",
    "url = \"https://tap.az/elanlar/neqliyyat/avtomobiller\"\n",
    "driver.get(url)\n",
    "\n",
    "SCROLL_PAUSE_TIME = 1\n",
    "\n",
    "# Get scroll height\n",
    "last_height = driver.execute_script(\"return document.body.scrollHeight\")\n",
    "\n",
    "while True:\n",
    "    # Scroll down to bottom\n",
    "    driver.execute_script(\"window.scrollTo(0, document.body.scrollHeight);\")\n",
    "\n",
    "    # Wait to load page\n",
    "    time.sleep(SCROLL_PAUSE_TIME)\n",
    "\n",
    "    # Calculate new scroll height and compare with last scroll height\n",
    "    new_height = driver.execute_script(\"return document.body.scrollHeight\")\n",
    "    if new_height == last_height:\n",
    "        break\n",
    "    last_height = new_height# wait.until(EC.url_to_be(url))\n",
    "\n",
    "\n",
    "page_source = driver.page_source\n",
    "soup = BeautifulSoup(page_source, features='html.parser')\n",
    "content = soup.select('a.products-link')\n",
    "products_links = []\n",
    "for link in content:\n",
    "    products_links.append(f'https://tap.az/{link.get(\"href\")}')\n",
    "\n",
    "pd.Series(products_links).to_csv('product-links.txt', header=None, index=None)"
   ],
   "metadata": {
    "collapsed": false,
    "pycharm": {
     "is_executing": true
    }
   }
  },
  {
   "cell_type": "code",
   "execution_count": 5,
   "outputs": [],
   "source": [
    "products_links_series = pd.read_csv('product-links.txt', header=None, names = ['Productlinks'])"
   ],
   "metadata": {
    "collapsed": false
   }
  },
  {
   "cell_type": "code",
   "execution_count": 6,
   "outputs": [],
   "source": [
    "column_names = [\n",
    "    'Qiymət',\n",
    "    'Şəhər',\n",
    "    'Marka',\n",
    "    'Model',\n",
    "    'Rəng',\n",
    "    'Mühərrik sm³',\n",
    "    'Yanacaq növü',\n",
    "    'Sürətlər qutusu ',\n",
    "    'Kuzov növü',\n",
    "    'Buraxılış ili',\n",
    "    'Yürüş km']\n",
    "\n",
    "column_names = [i.strip().replace(' ', '_').lower() for i in column_names]\n",
    "main_df = pd.DataFrame(columns = column_names)"
   ],
   "metadata": {
    "collapsed": false
   }
  },
  {
   "cell_type": "code",
   "execution_count": null,
   "outputs": [],
   "source": [
    "n = 0\n",
    "trash_links = []\n",
    "for i in products_links_series['Productlinks']:\n",
    "    response = requests.get(i)\n",
    "    soup = BeautifulSoup(response.content, features='html.parser')\n",
    "\n",
    "    content = soup.select('table.properties')\n",
    "    property_names_html = soup.select('table.properties td.property-name')\n",
    "    property_values_html = soup.select('table.properties td.property-value')\n",
    "    property_names = [i.text for i in property_names_html]\n",
    "    property_values = [i.text for i in property_values_html]\n",
    "\n",
    "    value = soup.select('div.price span.price-val')\n",
    "    currency = soup.select('div.price span.price-cur')\n",
    "    try:\n",
    "        property_names.insert(0, 'Qiymət')\n",
    "        property_values.insert(0, f'{value[0].text} {currency[0].text}')\n",
    "\n",
    "        print(len(property_names), len(property_values))\n",
    "        error_ = []\n",
    "\n",
    "        try:\n",
    "            if property_names[-1].find('Yeni'):\n",
    "                df = pd.DataFrame([property_values], columns=column_names)\n",
    "            else:\n",
    "                df = pd.DataFrame([property_values[:-1]], columns=column_names)\n",
    "        except:\n",
    "            a = pd.DataFrame([property_values], columns=property_names)\n",
    "            error_.append(a)\n",
    "\n",
    "        # df = pd.DataFrame([property_values], columns=column_names)\n",
    "        n += 1\n",
    "        print(n)\n",
    "        if n % 1000 == 0:\n",
    "            time.sleep(300)\n",
    "        main_df = pd.concat([main_df, df])\n",
    "    except:\n",
    "        trash_links.append(i)\n",
    "\n",
    "main_df.reset_index(drop=True, inplace=True)\n",
    "main_df = main_df[column_names]\n",
    "main_df.dropna(inplace=True)\n",
    "main_df.to_csv('cars-tapaz.csv', header=main_df.columns)"
   ],
   "metadata": {
    "collapsed": false,
    "pycharm": {
     "is_executing": true
    }
   }
  },
  {
   "cell_type": "markdown",
   "source": [
    "# Data analysis and modeling process"
   ],
   "metadata": {
    "collapsed": false
   }
  },
  {
   "cell_type": "code",
   "execution_count": 3,
   "outputs": [
    {
     "data": {
      "text/plain": "      qiymət şəhər       marka   model    rəng  mühərrik_sm³ yanacaq_növü   \n0  4 200 AZN  Bakı        Opel  Vectra  Gümüşü        2500.0       Benzin  \\\n1  7 700 AZN  Bakı        Opel   Astra     Göy        1400.0       Benzin   \n2  8 700 AZN  Bakı     Renault  Megane  Gümüşü        1900.0        Dizel   \n3  7 700 AZN  Bakı  Mitsubishi  Pajero  Gümüşü         282.0        Dizel   \n4  8 600 AZN  Bakı      Toyota   Prius     Boz        1500.0       Hibrid   \n\n  sürətlər_qutusu     kuzov_növü  buraxılış_ili  yürüş_km  \n0         Avtomat          Sedan           1999  136523.0  \n1        Mexaniki        Hetçbek           2007  209346.0  \n2        Mexaniki      Universal           2006  395000.0  \n3         Avtomat  Offroader/SUV           1994  385000.0  \n4         Avtomat          Sedan           2008  125000.0  ",
      "text/html": "<div>\n<style scoped>\n    .dataframe tbody tr th:only-of-type {\n        vertical-align: middle;\n    }\n\n    .dataframe tbody tr th {\n        vertical-align: top;\n    }\n\n    .dataframe thead th {\n        text-align: right;\n    }\n</style>\n<table border=\"1\" class=\"dataframe\">\n  <thead>\n    <tr style=\"text-align: right;\">\n      <th></th>\n      <th>qiymət</th>\n      <th>şəhər</th>\n      <th>marka</th>\n      <th>model</th>\n      <th>rəng</th>\n      <th>mühərrik_sm³</th>\n      <th>yanacaq_növü</th>\n      <th>sürətlər_qutusu</th>\n      <th>kuzov_növü</th>\n      <th>buraxılış_ili</th>\n      <th>yürüş_km</th>\n    </tr>\n  </thead>\n  <tbody>\n    <tr>\n      <th>0</th>\n      <td>4 200 AZN</td>\n      <td>Bakı</td>\n      <td>Opel</td>\n      <td>Vectra</td>\n      <td>Gümüşü</td>\n      <td>2500.0</td>\n      <td>Benzin</td>\n      <td>Avtomat</td>\n      <td>Sedan</td>\n      <td>1999</td>\n      <td>136523.0</td>\n    </tr>\n    <tr>\n      <th>1</th>\n      <td>7 700 AZN</td>\n      <td>Bakı</td>\n      <td>Opel</td>\n      <td>Astra</td>\n      <td>Göy</td>\n      <td>1400.0</td>\n      <td>Benzin</td>\n      <td>Mexaniki</td>\n      <td>Hetçbek</td>\n      <td>2007</td>\n      <td>209346.0</td>\n    </tr>\n    <tr>\n      <th>2</th>\n      <td>8 700 AZN</td>\n      <td>Bakı</td>\n      <td>Renault</td>\n      <td>Megane</td>\n      <td>Gümüşü</td>\n      <td>1900.0</td>\n      <td>Dizel</td>\n      <td>Mexaniki</td>\n      <td>Universal</td>\n      <td>2006</td>\n      <td>395000.0</td>\n    </tr>\n    <tr>\n      <th>3</th>\n      <td>7 700 AZN</td>\n      <td>Bakı</td>\n      <td>Mitsubishi</td>\n      <td>Pajero</td>\n      <td>Gümüşü</td>\n      <td>282.0</td>\n      <td>Dizel</td>\n      <td>Avtomat</td>\n      <td>Offroader/SUV</td>\n      <td>1994</td>\n      <td>385000.0</td>\n    </tr>\n    <tr>\n      <th>4</th>\n      <td>8 600 AZN</td>\n      <td>Bakı</td>\n      <td>Toyota</td>\n      <td>Prius</td>\n      <td>Boz</td>\n      <td>1500.0</td>\n      <td>Hibrid</td>\n      <td>Avtomat</td>\n      <td>Sedan</td>\n      <td>2008</td>\n      <td>125000.0</td>\n    </tr>\n  </tbody>\n</table>\n</div>"
     },
     "execution_count": 3,
     "metadata": {},
     "output_type": "execute_result"
    }
   ],
   "source": [
    "df = pd.read_csv('cars-tapaz.csv', index_col=[0])\n",
    "data = df.copy()\n",
    "df.head()"
   ],
   "metadata": {
    "collapsed": false
   }
  },
  {
   "cell_type": "code",
   "execution_count": 4,
   "outputs": [
    {
     "data": {
      "text/plain": "qiymət             0\nşəhər              0\nmarka              0\nmodel              0\nrəng               0\nmühərrik_sm³       0\nyanacaq_növü       0\nsürətlər_qutusu    0\nkuzov_növü         0\nburaxılış_ili      0\nyürüş_km           0\ndtype: int64"
     },
     "execution_count": 4,
     "metadata": {},
     "output_type": "execute_result"
    }
   ],
   "source": [
    "df.isna().sum()"
   ],
   "metadata": {
    "collapsed": false
   }
  },
  {
   "cell_type": "code",
   "execution_count": 5,
   "outputs": [
    {
     "name": "stdout",
     "output_type": "stream",
     "text": [
      "<class 'pandas.core.frame.DataFrame'>\n",
      "Index: 6887 entries, 0 to 6887\n",
      "Data columns (total 11 columns):\n",
      " #   Column           Non-Null Count  Dtype  \n",
      "---  ------           --------------  -----  \n",
      " 0   qiymət           6887 non-null   object \n",
      " 1   şəhər            6887 non-null   object \n",
      " 2   marka            6887 non-null   object \n",
      " 3   model            6887 non-null   object \n",
      " 4   rəng             6887 non-null   object \n",
      " 5   mühərrik_sm³     6887 non-null   float64\n",
      " 6   yanacaq_növü     6887 non-null   object \n",
      " 7   sürətlər_qutusu  6887 non-null   object \n",
      " 8   kuzov_növü       6887 non-null   object \n",
      " 9   buraxılış_ili    6887 non-null   int64  \n",
      " 10  yürüş_km         6887 non-null   float64\n",
      "dtypes: float64(2), int64(1), object(8)\n",
      "memory usage: 645.7+ KB\n"
     ]
    }
   ],
   "source": [
    "df.info()"
   ],
   "metadata": {
    "collapsed": false
   }
  },
  {
   "cell_type": "code",
   "execution_count": 6,
   "outputs": [],
   "source": [
    "# 1) Split the 'qiymət' column into two parts: 'qiymət' and 'valyuta'\n",
    "new_price_column = []\n",
    "for i in df['qiymət']:\n",
    "    new_price_column.append(i[:-3].strip().replace(' ', ''))\n",
    "\n",
    "df['valyuta'] = 'AZN'\n",
    "df['qiymət'] = new_price_column\n",
    "df['qiymət'] = df['qiymət'].astype('int')"
   ],
   "metadata": {
    "collapsed": false
   }
  },
  {
   "cell_type": "code",
   "execution_count": 7,
   "outputs": [
    {
     "name": "stdout",
     "output_type": "stream",
     "text": [
      "<class 'pandas.core.frame.DataFrame'>\n",
      "Index: 6887 entries, 0 to 6887\n",
      "Data columns (total 12 columns):\n",
      " #   Column           Non-Null Count  Dtype  \n",
      "---  ------           --------------  -----  \n",
      " 0   qiymət           6887 non-null   int32  \n",
      " 1   şəhər            6887 non-null   object \n",
      " 2   marka            6887 non-null   int64  \n",
      " 3   model            6887 non-null   int64  \n",
      " 4   rəng             6887 non-null   int64  \n",
      " 5   mühərrik_sm³     6887 non-null   float64\n",
      " 6   yanacaq_növü     6887 non-null   int64  \n",
      " 7   sürətlər_qutusu  6887 non-null   int64  \n",
      " 8   kuzov_növü       6887 non-null   int64  \n",
      " 9   buraxılış_ili    6887 non-null   int64  \n",
      " 10  yürüş_km         6887 non-null   float64\n",
      " 11  valyuta          6887 non-null   object \n",
      "dtypes: float64(2), int32(1), int64(7), object(2)\n",
      "memory usage: 672.6+ KB\n"
     ]
    }
   ],
   "source": [
    "object_names = []\n",
    "def convert_object_to_numeric(df, *columns):\n",
    "    for column in columns:\n",
    "        new_dict = {}\n",
    "        dictionary = {}\n",
    "        for i, v in enumerate(df[column].unique()):\n",
    "            dictionary[v] = i\n",
    "        df[column] = df[column].replace(dictionary)\n",
    "        new_dict[column] = dictionary\n",
    "        object_names.append(new_dict)\n",
    "\n",
    "    return df\n",
    "\n",
    "convert_object_to_numeric(df, 'marka', 'model', 'rəng', 'yanacaq_növü', 'sürətlər_qutusu', 'kuzov_növü')\n",
    "df.info()"
   ],
   "metadata": {
    "collapsed": false
   }
  },
  {
   "cell_type": "code",
   "execution_count": 8,
   "outputs": [],
   "source": [
    "# df['buraxılış_ili'] = pd.to_datetime(df['buraxılış_ili'], format = '%Y')"
   ],
   "metadata": {
    "collapsed": false
   }
  },
  {
   "cell_type": "code",
   "execution_count": 9,
   "outputs": [],
   "source": [
    "y = df['qiymət']\n",
    "X = df.drop(['qiymət', 'valyuta', 'şəhər'], axis=1)"
   ],
   "metadata": {
    "collapsed": false
   }
  },
  {
   "cell_type": "code",
   "execution_count": 10,
   "outputs": [],
   "source": [
    "from sklearn.model_selection import train_test_split\n",
    "\n",
    "X_train, X_test, y_train, y_test = train_test_split(X, y, test_size = 0.1, random_state = 1)"
   ],
   "metadata": {
    "collapsed": false
   }
  },
  {
   "cell_type": "code",
   "execution_count": 11,
   "outputs": [
    {
     "data": {
      "text/plain": "<class 'statsmodels.iolib.summary.Summary'>\n\"\"\"\n                                 OLS Regression Results                                \n=======================================================================================\nDep. Variable:                 qiymət   R-squared (uncentered):               -1514.527\nModel:                            OLS   Adj. R-squared (uncentered):          -1516.731\nMethod:                 Least Squares   F-statistic:                             -687.2\nDate:                Sat, 20 May 2023   Prob (F-statistic):                        1.00\nTime:                        19:31:07   Log-Likelihood:                         -64887.\nNo. Observations:                6198   AIC:                                  1.298e+05\nDf Residuals:                    6189   BIC:                                  1.299e+05\nDf Model:                           9                                                  \nCovariance Type:            nonrobust                                                  \n===================================================================================\n                      coef    std err          t      P>|t|      [0.025      0.975]\n-----------------------------------------------------------------------------------\nmarka              14.4647     11.666      1.240      0.215      -8.405      37.334\nmodel               9.8234      1.031      9.525      0.000       7.802      11.845\nrəng             -104.5873     31.712     -3.298      0.001    -166.755     -42.420\nmühərrik_sm³        0.5410      0.077      7.051      0.000       0.391       0.691\nyanacaq_növü     3643.5480    240.056     15.178      0.000    3172.956    4114.140\nsürətlər_qutusu -6160.9886    210.616    -29.252      0.000   -6573.870   -5748.107\nkuzov_növü       1287.4340     75.160     17.129      0.000    1140.095    1434.773\nburaxılış_ili       5.5339      0.139     39.816      0.000       5.261       5.806\nyürüş_km           -0.0001   7.61e-05     -1.522      0.128      -0.000    3.33e-05\n==============================================================================\nOmnibus:                     5781.676   Durbin-Watson:                   2.046\nProb(Omnibus):                  0.000   Jarque-Bera (JB):           433622.940\nSkew:                           4.264   Prob(JB):                         0.00\nKurtosis:                      43.080   Cond. No.                     3.21e+06\n==============================================================================\n\nNotes:\n[1] R² is computed without centering (uncentered) since the model does not contain a constant.\n[2] Standard Errors assume that the covariance matrix of the errors is correctly specified.\n[3] The condition number is large, 3.21e+06. This might indicate that there are\nstrong multicollinearity or other numerical problems.\n\"\"\"",
      "text/html": "<table class=\"simpletable\">\n<caption>OLS Regression Results</caption>\n<tr>\n  <th>Dep. Variable:</th>         <td>qiymət</td>      <th>  R-squared (uncentered):</th>      <td>-1514.527</td>\n</tr>\n<tr>\n  <th>Model:</th>                   <td>OLS</td>       <th>  Adj. R-squared (uncentered):</th> <td>-1516.731</td>\n</tr>\n<tr>\n  <th>Method:</th>             <td>Least Squares</td>  <th>  F-statistic:       </th>          <td>  -687.2</td> \n</tr>\n<tr>\n  <th>Date:</th>             <td>Sat, 20 May 2023</td> <th>  Prob (F-statistic):</th>           <td>  1.00</td>  \n</tr>\n<tr>\n  <th>Time:</th>                 <td>19:31:07</td>     <th>  Log-Likelihood:    </th>          <td> -64887.</td> \n</tr>\n<tr>\n  <th>No. Observations:</th>      <td>  6198</td>      <th>  AIC:               </th>          <td>1.298e+05</td>\n</tr>\n<tr>\n  <th>Df Residuals:</th>          <td>  6189</td>      <th>  BIC:               </th>          <td>1.299e+05</td>\n</tr>\n<tr>\n  <th>Df Model:</th>              <td>     9</td>      <th>                     </th>              <td> </td>    \n</tr>\n<tr>\n  <th>Covariance Type:</th>      <td>nonrobust</td>    <th>                     </th>              <td> </td>    \n</tr>\n</table>\n<table class=\"simpletable\">\n<tr>\n         <td></td>            <th>coef</th>     <th>std err</th>      <th>t</th>      <th>P>|t|</th>  <th>[0.025</th>    <th>0.975]</th>  \n</tr>\n<tr>\n  <th>marka</th>           <td>   14.4647</td> <td>   11.666</td> <td>    1.240</td> <td> 0.215</td> <td>   -8.405</td> <td>   37.334</td>\n</tr>\n<tr>\n  <th>model</th>           <td>    9.8234</td> <td>    1.031</td> <td>    9.525</td> <td> 0.000</td> <td>    7.802</td> <td>   11.845</td>\n</tr>\n<tr>\n  <th>rəng</th>            <td> -104.5873</td> <td>   31.712</td> <td>   -3.298</td> <td> 0.001</td> <td> -166.755</td> <td>  -42.420</td>\n</tr>\n<tr>\n  <th>mühərrik_sm³</th>    <td>    0.5410</td> <td>    0.077</td> <td>    7.051</td> <td> 0.000</td> <td>    0.391</td> <td>    0.691</td>\n</tr>\n<tr>\n  <th>yanacaq_növü</th>    <td> 3643.5480</td> <td>  240.056</td> <td>   15.178</td> <td> 0.000</td> <td> 3172.956</td> <td> 4114.140</td>\n</tr>\n<tr>\n  <th>sürətlər_qutusu</th> <td>-6160.9886</td> <td>  210.616</td> <td>  -29.252</td> <td> 0.000</td> <td>-6573.870</td> <td>-5748.107</td>\n</tr>\n<tr>\n  <th>kuzov_növü</th>      <td> 1287.4340</td> <td>   75.160</td> <td>   17.129</td> <td> 0.000</td> <td> 1140.095</td> <td> 1434.773</td>\n</tr>\n<tr>\n  <th>buraxılış_ili</th>   <td>    5.5339</td> <td>    0.139</td> <td>   39.816</td> <td> 0.000</td> <td>    5.261</td> <td>    5.806</td>\n</tr>\n<tr>\n  <th>yürüş_km</th>        <td>   -0.0001</td> <td> 7.61e-05</td> <td>   -1.522</td> <td> 0.128</td> <td>   -0.000</td> <td> 3.33e-05</td>\n</tr>\n</table>\n<table class=\"simpletable\">\n<tr>\n  <th>Omnibus:</th>       <td>5781.676</td> <th>  Durbin-Watson:     </th>  <td>   2.046</td> \n</tr>\n<tr>\n  <th>Prob(Omnibus):</th>  <td> 0.000</td>  <th>  Jarque-Bera (JB):  </th> <td>433622.940</td>\n</tr>\n<tr>\n  <th>Skew:</th>           <td> 4.264</td>  <th>  Prob(JB):          </th>  <td>    0.00</td> \n</tr>\n<tr>\n  <th>Kurtosis:</th>       <td>43.080</td>  <th>  Cond. No.          </th>  <td>3.21e+06</td> \n</tr>\n</table><br/><br/>Notes:<br/>[1] R² is computed without centering (uncentered) since the model does not contain a constant.<br/>[2] Standard Errors assume that the covariance matrix of the errors is correctly specified.<br/>[3] The condition number is large, 3.21e+06. This might indicate that there are<br/>strong multicollinearity or other numerical problems.",
      "text/latex": "\\begin{center}\n\\begin{tabular}{lclc}\n\\toprule\n\\textbf{Dep. Variable:}    &      qiymət      & \\textbf{  R-squared (uncentered):}      & -1514.527   \\\\\n\\textbf{Model:}            &       OLS        & \\textbf{  Adj. R-squared (uncentered):} & -1516.731   \\\\\n\\textbf{Method:}           &  Least Squares   & \\textbf{  F-statistic:       }          &    -687.2   \\\\\n\\textbf{Date:}             & Sat, 20 May 2023 & \\textbf{  Prob (F-statistic):}          &     1.00    \\\\\n\\textbf{Time:}             &     19:31:07     & \\textbf{  Log-Likelihood:    }          &   -64887.   \\\\\n\\textbf{No. Observations:} &        6198      & \\textbf{  AIC:               }          & 1.298e+05   \\\\\n\\textbf{Df Residuals:}     &        6189      & \\textbf{  BIC:               }          & 1.299e+05   \\\\\n\\textbf{Df Model:}         &           9      & \\textbf{                     }          &             \\\\\n\\textbf{Covariance Type:}  &    nonrobust     & \\textbf{                     }          &             \\\\\n\\bottomrule\n\\end{tabular}\n\\begin{tabular}{lcccccc}\n                          & \\textbf{coef} & \\textbf{std err} & \\textbf{t} & \\textbf{P$> |$t$|$} & \\textbf{[0.025} & \\textbf{0.975]}  \\\\\n\\midrule\n\\textbf{marka}            &      14.4647  &       11.666     &     1.240  &         0.215        &       -8.405    &       37.334     \\\\\n\\textbf{model}            &       9.8234  &        1.031     &     9.525  &         0.000        &        7.802    &       11.845     \\\\\n\\textbf{rəng}             &    -104.5873  &       31.712     &    -3.298  &         0.001        &     -166.755    &      -42.420     \\\\\n\\textbf{mühərrik\\_sm³}    &       0.5410  &        0.077     &     7.051  &         0.000        &        0.391    &        0.691     \\\\\n\\textbf{yanacaq\\_növü}    &    3643.5480  &      240.056     &    15.178  &         0.000        &     3172.956    &     4114.140     \\\\\n\\textbf{sürətlər\\_qutusu} &   -6160.9886  &      210.616     &   -29.252  &         0.000        &    -6573.870    &    -5748.107     \\\\\n\\textbf{kuzov\\_növü}      &    1287.4340  &       75.160     &    17.129  &         0.000        &     1140.095    &     1434.773     \\\\\n\\textbf{buraxılış\\_ili}   &       5.5339  &        0.139     &    39.816  &         0.000        &        5.261    &        5.806     \\\\\n\\textbf{yürüş\\_km}        &      -0.0001  &     7.61e-05     &    -1.522  &         0.128        &       -0.000    &     3.33e-05     \\\\\n\\bottomrule\n\\end{tabular}\n\\begin{tabular}{lclc}\n\\textbf{Omnibus:}       & 5781.676 & \\textbf{  Durbin-Watson:     } &     2.046   \\\\\n\\textbf{Prob(Omnibus):} &   0.000  & \\textbf{  Jarque-Bera (JB):  } & 433622.940  \\\\\n\\textbf{Skew:}          &   4.264  & \\textbf{  Prob(JB):          } &      0.00   \\\\\n\\textbf{Kurtosis:}      &  43.080  & \\textbf{  Cond. No.          } &  3.21e+06   \\\\\n\\bottomrule\n\\end{tabular}\n%\\caption{OLS Regression Results}\n\\end{center}\n\nNotes: \\newline\n [1] R² is computed without centering (uncentered) since the model does not contain a constant. \\newline\n [2] Standard Errors assume that the covariance matrix of the errors is correctly specified. \\newline\n [3] The condition number is large, 3.21e+06. This might indicate that there are \\newline\n strong multicollinearity or other numerical problems."
     },
     "execution_count": 11,
     "metadata": {},
     "output_type": "execute_result"
    }
   ],
   "source": [
    "import statsmodels.api as sm\n",
    "\n",
    "lm = sm.OLS(y_train, X_train)\n",
    "model = lm.fit()\n",
    "model.summary()"
   ],
   "metadata": {
    "collapsed": false
   }
  },
  {
   "cell_type": "code",
   "execution_count": 12,
   "outputs": [],
   "source": [
    "from sklearn.linear_model import LinearRegression\n",
    "\n",
    "lm = LinearRegression()\n",
    "model = lm.fit(X_train, y_train)"
   ],
   "metadata": {
    "collapsed": false
   }
  },
  {
   "cell_type": "code",
   "execution_count": 14,
   "outputs": [
    {
     "name": "stdout",
     "output_type": "stream",
     "text": [
      "R2 Score: 0.47929345552210545\n",
      "Mean Squared Error: 43631393.26777885\n",
      "Root Mean Squared Error: 6605.40636658933\n"
     ]
    }
   ],
   "source": [
    "from sklearn.metrics import r2_score, mean_squared_error\n",
    "import numpy\n",
    "\n",
    "y_pred = model.predict(X_test)\n",
    "r2score = f'R2 Score: {r2_score(y_test, y_pred)}'\n",
    "mse = f'Mean Squared Error: {mean_squared_error(y_test, y_pred)}'\n",
    "rmse = f'Root Mean Squared Error: {np.sqrt(mean_squared_error(y_test, y_pred))}'\n",
    "\n",
    "print(r2score, mse, rmse, sep='\\n')"
   ],
   "metadata": {
    "collapsed": false
   }
  }
 ],
 "metadata": {
  "kernelspec": {
   "display_name": "Python 3",
   "language": "python",
   "name": "python3"
  },
  "language_info": {
   "codemirror_mode": {
    "name": "ipython",
    "version": 2
   },
   "file_extension": ".py",
   "mimetype": "text/x-python",
   "name": "python",
   "nbconvert_exporter": "python",
   "pygments_lexer": "ipython2",
   "version": "2.7.6"
  }
 },
 "nbformat": 4,
 "nbformat_minor": 0
}
