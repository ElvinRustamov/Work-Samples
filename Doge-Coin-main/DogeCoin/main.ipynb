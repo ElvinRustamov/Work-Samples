{
 "cells": [
  {
   "cell_type": "code",
   "execution_count": 40,
   "outputs": [],
   "source": [
    "import pandas as pd\n",
    "import numpy as np\n",
    "import matplotlib.pyplot as plt\n",
    "from datetime import date, datetime"
   ],
   "metadata": {
    "collapsed": false,
    "pycharm": {
     "name": "#%%\n"
    }
   }
  },
  {
   "cell_type": "code",
   "execution_count": 2,
   "outputs": [],
   "source": [
    "doge_coin = pd.read_csv('DOGE-USD.csv')"
   ],
   "metadata": {
    "collapsed": false,
    "pycharm": {
     "name": "#%%\n"
    }
   }
  },
  {
   "cell_type": "code",
   "execution_count": 3,
   "outputs": [
    {
     "data": {
      "text/plain": "         Date      Open      High       Low     Close  Adj Close     Volume\n0  2017-11-09  0.001207  0.001415  0.001181  0.001415   0.001415  6259550.0\n1  2017-11-10  0.001421  0.001431  0.001125  0.001163   0.001163  4246520.0\n2  2017-11-11  0.001146  0.001257  0.001141  0.001201   0.001201  2231080.0\n3  2017-11-12  0.001189  0.001210  0.001002  0.001038   0.001038  3288960.0\n4  2017-11-13  0.001046  0.001212  0.001019  0.001211   0.001211  2481270.0",
      "text/html": "<div>\n<style scoped>\n    .dataframe tbody tr th:only-of-type {\n        vertical-align: middle;\n    }\n\n    .dataframe tbody tr th {\n        vertical-align: top;\n    }\n\n    .dataframe thead th {\n        text-align: right;\n    }\n</style>\n<table border=\"1\" class=\"dataframe\">\n  <thead>\n    <tr style=\"text-align: right;\">\n      <th></th>\n      <th>Date</th>\n      <th>Open</th>\n      <th>High</th>\n      <th>Low</th>\n      <th>Close</th>\n      <th>Adj Close</th>\n      <th>Volume</th>\n    </tr>\n  </thead>\n  <tbody>\n    <tr>\n      <th>0</th>\n      <td>2017-11-09</td>\n      <td>0.001207</td>\n      <td>0.001415</td>\n      <td>0.001181</td>\n      <td>0.001415</td>\n      <td>0.001415</td>\n      <td>6259550.0</td>\n    </tr>\n    <tr>\n      <th>1</th>\n      <td>2017-11-10</td>\n      <td>0.001421</td>\n      <td>0.001431</td>\n      <td>0.001125</td>\n      <td>0.001163</td>\n      <td>0.001163</td>\n      <td>4246520.0</td>\n    </tr>\n    <tr>\n      <th>2</th>\n      <td>2017-11-11</td>\n      <td>0.001146</td>\n      <td>0.001257</td>\n      <td>0.001141</td>\n      <td>0.001201</td>\n      <td>0.001201</td>\n      <td>2231080.0</td>\n    </tr>\n    <tr>\n      <th>3</th>\n      <td>2017-11-12</td>\n      <td>0.001189</td>\n      <td>0.001210</td>\n      <td>0.001002</td>\n      <td>0.001038</td>\n      <td>0.001038</td>\n      <td>3288960.0</td>\n    </tr>\n    <tr>\n      <th>4</th>\n      <td>2017-11-13</td>\n      <td>0.001046</td>\n      <td>0.001212</td>\n      <td>0.001019</td>\n      <td>0.001211</td>\n      <td>0.001211</td>\n      <td>2481270.0</td>\n    </tr>\n  </tbody>\n</table>\n</div>"
     },
     "execution_count": 3,
     "metadata": {},
     "output_type": "execute_result"
    }
   ],
   "source": [
    "doge_coin.head()"
   ],
   "metadata": {
    "collapsed": false,
    "pycharm": {
     "name": "#%%\n"
    }
   }
  },
  {
   "cell_type": "code",
   "execution_count": 4,
   "outputs": [
    {
     "name": "stdout",
     "output_type": "stream",
     "text": [
      "<class 'pandas.core.frame.DataFrame'>\n",
      "RangeIndex: 1723 entries, 0 to 1722\n",
      "Data columns (total 7 columns):\n",
      " #   Column     Non-Null Count  Dtype  \n",
      "---  ------     --------------  -----  \n",
      " 0   Date       1723 non-null   object \n",
      " 1   Open       1722 non-null   float64\n",
      " 2   High       1722 non-null   float64\n",
      " 3   Low        1722 non-null   float64\n",
      " 4   Close      1722 non-null   float64\n",
      " 5   Adj Close  1722 non-null   float64\n",
      " 6   Volume     1722 non-null   float64\n",
      "dtypes: float64(6), object(1)\n",
      "memory usage: 94.4+ KB\n"
     ]
    }
   ],
   "source": [
    "doge_coin.info()"
   ],
   "metadata": {
    "collapsed": false,
    "pycharm": {
     "name": "#%%\n"
    }
   }
  },
  {
   "cell_type": "code",
   "execution_count": 6,
   "outputs": [
    {
     "data": {
      "text/plain": "False    1723\ndtype: int64"
     },
     "execution_count": 6,
     "metadata": {},
     "output_type": "execute_result"
    }
   ],
   "source": [
    "doge_coin.duplicated().value_counts()"
   ],
   "metadata": {
    "collapsed": false,
    "pycharm": {
     "name": "#%%\n"
    }
   }
  },
  {
   "cell_type": "code",
   "execution_count": 9,
   "outputs": [
    {
     "data": {
      "text/plain": "<Figure size 432x288 with 1 Axes>",
      "image/png": "[encoded data removed]"
     },
     "metadata": {
      "needs_background": "light"
     },
     "output_type": "display_data"
    }
   ],
   "source": [
    "plt.plot('Date', 'Volume', data=doge_coin);"
   ],
   "metadata": {
    "collapsed": false,
    "pycharm": {
     "name": "#%%\n"
    }
   }
  },
  {
   "cell_type": "code",
   "execution_count": 47,
   "outputs": [],
   "source": [
    "doge_coin['Date'] = pd.to_datetime(doge_coin['Date'])"
   ],
   "metadata": {
    "collapsed": false,
    "pycharm": {
     "name": "#%%\n"
    }
   }
  },
  {
   "cell_type": "code",
   "execution_count": 48,
   "outputs": [
    {
     "name": "stdout",
     "output_type": "stream",
     "text": [
      "<class 'pandas.core.frame.DataFrame'>\n",
      "RangeIndex: 1723 entries, 0 to 1722\n",
      "Data columns (total 7 columns):\n",
      " #   Column     Non-Null Count  Dtype         \n",
      "---  ------     --------------  -----         \n",
      " 0   Date       1723 non-null   datetime64[ns]\n",
      " 1   Open       1722 non-null   float64       \n",
      " 2   High       1722 non-null   float64       \n",
      " 3   Low        1722 non-null   float64       \n",
      " 4   Close      1722 non-null   float64       \n",
      " 5   Adj Close  1722 non-null   float64       \n",
      " 6   Volume     1722 non-null   float64       \n",
      "dtypes: datetime64[ns](1), float64(6)\n",
      "memory usage: 94.4 KB\n"
     ]
    }
   ],
   "source": [
    "doge_coin.info()"
   ],
   "metadata": {
    "collapsed": false,
    "pycharm": {
     "name": "#%%\n"
    }
   }
  },
  {
   "cell_type": "code",
   "execution_count": 51,
   "outputs": [],
   "source": [
    "year_and_volume = doge_coin.groupby(doge_coin['Date'].dt.year)['Volume'].sum()"
   ],
   "metadata": {
    "collapsed": false,
    "pycharm": {
     "name": "#%%\n"
    }
   }
  },
  {
   "cell_type": "code",
   "execution_count": 58,
   "outputs": [],
   "source": [
    "# year_and_volume = year_and_volume.reset_index()"
   ],
   "metadata": {
    "collapsed": false,
    "pycharm": {
     "name": "#%%\n"
    }
   }
  },
  {
   "cell_type": "code",
   "execution_count": 67,
   "outputs": [
    {
     "data": {
      "text/plain": "<Figure size 432x288 with 1 Axes>",
      "image/png": "[encoded data removed]"
     },
     "metadata": {
      "needs_background": "light"
     },
     "output_type": "display_data"
    }
   ],
   "source": [
    "plt.plot('Date', 'Volume', data=year_and_volume);\n",
    "plt.xlabel('Year');\n",
    "plt.ylabel('Total Volume');\n",
    "plt.title('Total Volume for per year');"
   ],
   "metadata": {
    "collapsed": false,
    "pycharm": {
     "name": "#%%\n"
    }
   }
  },
  {
   "cell_type": "code",
   "execution_count": 91,
   "outputs": [
    {
     "data": {
      "text/plain": "<Figure size 432x288 with 1 Axes>",
      "image/png": "[encoded data removed]"
     },
     "metadata": {
      "needs_background": "light"
     },
     "output_type": "display_data"
    },
    {
     "data": {
      "text/plain": "<Figure size 432x288 with 1 Axes>",
      "image/png": "[encoded data removed]"
     },
     "metadata": {
      "needs_background": "light"
     },
     "output_type": "display_data"
    }
   ],
   "source": [
    "f = plt.figure(1)\n",
    "plt.plot('Date', 'High', data=doge_coin, c='Blue');\n",
    "plt.xlabel('Date');\n",
    "plt.ylabel('High Value');\n",
    "\n",
    "g = plt.figure(2)\n",
    "plt.plot('Date', 'Low', data=doge_coin, c='red');\n",
    "plt.xlabel('Date');\n",
    "plt.ylabel('Low Value');"
   ],
   "metadata": {
    "collapsed": false,
    "pycharm": {
     "name": "#%%\n"
    }
   }
  },
  {
   "cell_type": "code",
   "execution_count": 97,
   "outputs": [
    {
     "data": {
      "text/plain": "<Figure size 432x288 with 1 Axes>",
      "image/png": "[encoded data removed]"
     },
     "metadata": {
      "needs_background": "light"
     },
     "output_type": "display_data"
    }
   ],
   "source": [
    "plt.plot('Date', 'High', data=doge_coin, c='Blue');\n",
    "plt.plot('Date', 'Low', data=doge_coin, c='red');\n",
    "plt.xlabel('Date')\n",
    "plt.ylabel('High and Low Volume')\n",
    "plt.title('High and Low Volume for per year in one graph')\n",
    "plt.legend();"
   ],
   "metadata": {
    "collapsed": false,
    "pycharm": {
     "name": "#%%\n"
    }
   }
  },
  {
   "cell_type": "code",
   "execution_count": 107,
   "outputs": [],
   "source": [
    "# Minimum and Maximum value for all of the time"
   ],
   "metadata": {
    "collapsed": false,
    "pycharm": {
     "name": "#%%\n"
    }
   }
  },
  {
   "cell_type": "code",
   "execution_count": 108,
   "outputs": [
    {
     "data": {
      "text/plain": "           Date      Open      High       Low     Close  Adj Close  \\\n1276 2021-05-08  0.687801  0.737567  0.608168  0.636439   0.636439   \n\n            Volume  \n1276  2.555513e+10  ",
      "text/html": "<div>\n<style scoped>\n    .dataframe tbody tr th:only-of-type {\n        vertical-align: middle;\n    }\n\n    .dataframe tbody tr th {\n        vertical-align: top;\n    }\n\n    .dataframe thead th {\n        text-align: right;\n    }\n</style>\n<table border=\"1\" class=\"dataframe\">\n  <thead>\n    <tr style=\"text-align: right;\">\n      <th></th>\n      <th>Date</th>\n      <th>Open</th>\n      <th>High</th>\n      <th>Low</th>\n      <th>Close</th>\n      <th>Adj Close</th>\n      <th>Volume</th>\n    </tr>\n  </thead>\n  <tbody>\n    <tr>\n      <th>1276</th>\n      <td>2021-05-08</td>\n      <td>0.687801</td>\n      <td>0.737567</td>\n      <td>0.608168</td>\n      <td>0.636439</td>\n      <td>0.636439</td>\n      <td>2.555513e+10</td>\n    </tr>\n  </tbody>\n</table>\n</div>"
     },
     "execution_count": 108,
     "metadata": {},
     "output_type": "execute_result"
    }
   ],
   "source": [
    "# Maximum Value\n",
    "doge_coin[doge_coin['High'] == doge_coin['High'].max()]\n"
   ],
   "metadata": {
    "collapsed": false,
    "pycharm": {
     "name": "#%%\n"
    }
   }
  },
  {
   "cell_type": "code",
   "execution_count": 103,
   "outputs": [
    {
     "data": {
      "text/plain": "0.737567"
     },
     "execution_count": 103,
     "metadata": {},
     "output_type": "execute_result"
    }
   ],
   "source": [
    "doge_coin.High.max()"
   ],
   "metadata": {
    "collapsed": false,
    "pycharm": {
     "name": "#%%\n"
    }
   }
  },
  {
   "cell_type": "code",
   "execution_count": 105,
   "outputs": [
    {
     "data": {
      "text/plain": "Timestamp('2021-05-08 00:00:00')"
     },
     "execution_count": 105,
     "metadata": {},
     "output_type": "execute_result"
    }
   ],
   "source": [
    "doge_coin.loc[1276, 'Date']"
   ],
   "metadata": {
    "collapsed": false,
    "pycharm": {
     "name": "#%%\n"
    }
   }
  },
  {
   "cell_type": "code",
   "execution_count": 111,
   "outputs": [
    {
     "data": {
      "text/plain": "0.001002"
     },
     "execution_count": 111,
     "metadata": {},
     "output_type": "execute_result"
    }
   ],
   "source": [
    "# Minimum Value\n",
    "doge_coin.Low.min()"
   ],
   "metadata": {
    "collapsed": false,
    "pycharm": {
     "name": "#%%\n"
    }
   }
  },
  {
   "cell_type": "code",
   "execution_count": 112,
   "outputs": [
    {
     "data": {
      "text/plain": "        Date      Open     High       Low     Close  Adj Close     Volume\n3 2017-11-12  0.001189  0.00121  0.001002  0.001038   0.001038  3288960.0",
      "text/html": "<div>\n<style scoped>\n    .dataframe tbody tr th:only-of-type {\n        vertical-align: middle;\n    }\n\n    .dataframe tbody tr th {\n        vertical-align: top;\n    }\n\n    .dataframe thead th {\n        text-align: right;\n    }\n</style>\n<table border=\"1\" class=\"dataframe\">\n  <thead>\n    <tr style=\"text-align: right;\">\n      <th></th>\n      <th>Date</th>\n      <th>Open</th>\n      <th>High</th>\n      <th>Low</th>\n      <th>Close</th>\n      <th>Adj Close</th>\n      <th>Volume</th>\n    </tr>\n  </thead>\n  <tbody>\n    <tr>\n      <th>3</th>\n      <td>2017-11-12</td>\n      <td>0.001189</td>\n      <td>0.00121</td>\n      <td>0.001002</td>\n      <td>0.001038</td>\n      <td>0.001038</td>\n      <td>3288960.0</td>\n    </tr>\n  </tbody>\n</table>\n</div>"
     },
     "execution_count": 112,
     "metadata": {},
     "output_type": "execute_result"
    }
   ],
   "source": [
    "doge_coin[doge_coin.Low == doge_coin.Low.min()]"
   ],
   "metadata": {
    "collapsed": false,
    "pycharm": {
     "name": "#%%\n"
    }
   }
  },
  {
   "cell_type": "code",
   "execution_count": 113,
   "outputs": [
    {
     "data": {
      "text/plain": "69410680685.0"
     },
     "execution_count": 113,
     "metadata": {},
     "output_type": "execute_result"
    }
   ],
   "source": [
    "# High Volume\n",
    "doge_coin.Volume.max()"
   ],
   "metadata": {
    "collapsed": false,
    "pycharm": {
     "name": "#%%\n"
    }
   }
  },
  {
   "cell_type": "code",
   "execution_count": 115,
   "outputs": [
    {
     "data": {
      "text/plain": "1431720.0"
     },
     "execution_count": 115,
     "metadata": {},
     "output_type": "execute_result"
    }
   ],
   "source": [
    "# Low Volume\n",
    "doge_coin.Volume.min()"
   ],
   "metadata": {
    "collapsed": false,
    "pycharm": {
     "name": "#%%\n"
    }
   }
  },
  {
   "cell_type": "markdown",
   "source": [
    "Thanks."
   ],
   "metadata": {
    "collapsed": false,
    "pycharm": {
     "name": "#%% md\n"
    }
   }
  }
 ],
 "metadata": {
  "kernelspec": {
   "display_name": "Python 3",
   "language": "python",
   "name": "python3"
  },
  "language_info": {
   "codemirror_mode": {
    "name": "ipython",
    "version": 2
   },
   "file_extension": ".py",
   "mimetype": "text/x-python",
   "name": "python",
   "nbconvert_exporter": "python",
   "pygments_lexer": "ipython2",
   "version": "2.7.6"
  }
 },
 "nbformat": 4,
 "nbformat_minor": 0
}